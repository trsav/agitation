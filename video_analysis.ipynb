{
 "cells": [
  {
   "cell_type": "markdown",
   "id": "c7527b6b-10ee-421a-b8de-fead9d41c4f4",
   "metadata": {},
   "source": [
    "## Agitation Video Analysis \n",
    "\n",
    "This notebook may be used as a tool to determine the approximate mixing times of agitated glass vessels."
   ]
  },
  {
   "cell_type": "code",
   "execution_count": 1,
   "id": "89223df2-4c41-4f8d-9ce0-244345e546ae",
   "metadata": {},
   "outputs": [],
   "source": [
    "import imageio as iio; import cv2; import numpy as np; import matplotlib.pyplot as plt; from tqdm import tqdm; import os; import tkinter as tk;\n",
    "from tkinter import filedialog\n",
    "import ipywidgets as widgets\n",
    "from ipywidgets import HBox, VBox\n",
    "from ipywidgets import interactive\n",
    "import pandas as pd\n",
    "# ten colors from Spectral colormap as a list \n",
    "colors = ['#9e0142', '#d53e4f', '#f46d43', '#fdae61', '#fee08b', '#ffffbf', '#e6f598', '#abdda4', '#66c2a5', '#3288bd']"
   ]
  },
  {
   "cell_type": "code",
   "execution_count": 2,
   "id": "faac8fca",
   "metadata": {
    "jupyter": {
     "source_hidden": true
    }
   },
   "outputs": [
    {
     "name": "stderr",
     "output_type": "stream",
     "text": [
      "2023-10-17 09:49:16.422 python[68086:6346073] +[CATransaction synchronize] called within transaction\n"
     ]
    },
    {
     "name": "stdout",
     "output_type": "stream",
     "text": [
      "Selected video file: /Users/tsavage/Documents/movie.mp4\n"
     ]
    }
   ],
   "source": [
    "def select_file():\n",
    "    root = tk.Tk()\n",
    "    root.withdraw()  # Hide the root window\n",
    "    file_path = filedialog.askopenfilename(filetypes=[(\"MP4 files\", \"*.mp4\")])\n",
    "    return file_path\n",
    "\n",
    "video_name = select_file()\n",
    "print(f\"Selected video file: {video_name}\")"
   ]
  },
  {
   "cell_type": "code",
   "execution_count": 15,
   "id": "94b39b3a-1435-46da-808d-e6ee7f5a4ce9",
   "metadata": {},
   "outputs": [],
   "source": [
    "cap = cv2.VideoCapture(video_name)\n",
    "success,image = cap.read()\n",
    "num_frames = int(cap.get(cv2.CAP_PROP_FRAME_COUNT))\n",
    "frame_height = int(cap.get(cv2.CAP_PROP_FRAME_HEIGHT))\n",
    "frame_width = int(cap.get(cv2.CAP_PROP_FRAME_WIDTH))\n",
    "fps = int(cap.get(cv2.CAP_PROP_FPS))"
   ]
  },
  {
   "cell_type": "markdown",
   "id": "9a4f804e-c63c-407f-b7a1-4eb353bc189b",
   "metadata": {},
   "source": [
    "## Change the values here to crop the image appropriately"
   ]
  },
  {
   "cell_type": "code",
   "execution_count": 4,
   "id": "d69c1aab-00e2-432c-a217-918b49e779fb",
   "metadata": {
    "jupyter": {
     "source_hidden": true
    }
   },
   "outputs": [
    {
     "data": {
      "application/vnd.jupyter.widget-view+json": {
       "model_id": "915d5ff91f094ba8a404e8e9fbe5cf8c",
       "version_major": 2,
       "version_minor": 0
      },
      "text/plain": [
       "interactive(children=(FloatRangeSlider(value=(0.0, 1920.0), description='Horizontal:', max=1920.0, readout_for…"
      ]
     },
     "execution_count": 4,
     "metadata": {},
     "output_type": "execute_result"
    }
   ],
   "source": [
    "x = len(image[0,:])\n",
    "y = len(image[:,0])\n",
    "\n",
    "horizontal_slider = widgets.FloatRangeSlider(\n",
    "    value=[0,x], \n",
    "    min=0., max=x, step=1.,\n",
    "    description='Horizontal:',\n",
    "    readout_format='.1f',\n",
    ")\n",
    "\n",
    "vertical_slider = widgets.FloatRangeSlider(\n",
    "    value=[0,y], \n",
    "    min=0., max=y, step=1.,\n",
    "    description='Vertical:',\n",
    "    readout_format='.1f',\n",
    ")\n",
    "\n",
    "def crop(x,y):\n",
    "    left,right = x \n",
    "    top,bottom = y\n",
    "    left = int(left)\n",
    "    top = int(top)\n",
    "    bottom = int(bottom)\n",
    "    right = int(right)\n",
    "    print(left,right,top,bottom)\n",
    "    img = image[top:bottom,left:right]\n",
    "    plt.imshow(img)\n",
    "    plt.xticks([],[])\n",
    "    plt.yticks([],[])\n",
    "    plt.show()\n",
    "\n",
    "interactive_plot = interactive(\n",
    "    crop, \n",
    "    x=horizontal_slider,\n",
    "    y=vertical_slider\n",
    ")\n",
    "output = interactive_plot.children[-1]\n",
    "interactive_plot"
   ]
  },
  {
   "cell_type": "code",
   "execution_count": 13,
   "id": "16c34154-144b-48f2-91a8-667644e5d7b1",
   "metadata": {},
   "outputs": [],
   "source": [
    "left,right = horizontal_slider.value\n",
    "top,bottom = vertical_slider.value\n",
    "left,right,top,bottom = int(left),int(right),int(top),int(bottom)"
   ]
  },
  {
   "cell_type": "code",
   "execution_count": 16,
   "id": "b292dd2a-d498-488e-8163-9cc3df867d20",
   "metadata": {},
   "outputs": [
    {
     "data": {
      "application/vnd.jupyter.widget-view+json": {
       "model_id": "4d2517bebe4c47369f3ceba74f910d55",
       "version_major": 2,
       "version_minor": 0
      },
      "text/plain": [
       "interactive(children=(FloatSlider(value=0.0, description='Last Frame:', max=3156.0, readout_format='.1f', step…"
      ]
     },
     "execution_count": 16,
     "metadata": {},
     "output_type": "execute_result"
    }
   ],
   "source": [
    "frame_slider = widgets.FloatSlider(\n",
    "    value=0,\n",
    "    min=0,\n",
    "    max=num_frames,\n",
    "    step=1,\n",
    "    description='Last Frame:',\n",
    "    readout_format='.1f',\n",
    ")\n",
    "\n",
    "\n",
    "def last_frame(last):\n",
    "    cap.set(cv2.CAP_PROP_POS_FRAMES, last)\n",
    "    res, frame = cap.read()\n",
    "    plt.imshow(frame[top:bottom,left:right])\n",
    "    plt.xticks([],[])\n",
    "    plt.yticks([],[])\n",
    "    plt.show()\n",
    "\n",
    "interactive_plot = interactive(\n",
    "    last_frame, \n",
    "    last=frame_slider\n",
    ")\n",
    "\n",
    "output = interactive_plot.children[-1]\n",
    "interactive_plot"
   ]
  },
  {
   "cell_type": "code",
   "execution_count": 17,
   "id": "72e17e9b-0cee-41a0-9f90-c2677565f261",
   "metadata": {},
   "outputs": [
    {
     "name": "stdout",
     "output_type": "stream",
     "text": [
      "2494\n"
     ]
    }
   ],
   "source": [
    "last = int(frame_slider.value)\n",
    "print(last)"
   ]
  },
  {
   "cell_type": "code",
   "execution_count": 18,
   "id": "69c336db-2684-4966-923f-6ccf1aa1b57b",
   "metadata": {},
   "outputs": [
    {
     "name": "stderr",
     "output_type": "stream",
     "text": [
      "100%|█████████████████████████████████████████████████████████████████████████████████████████████████████████████████████████████████████████████████████████████████████████| 2494/2494 [00:16<00:00, 151.00it/s]\n"
     ]
    }
   ],
   "source": [
    "frames = np.empty((last, bottom-top, right-left), dtype=np.uint8)\n",
    "cap.set(cv2.CAP_PROP_POS_FRAMES, 0)\n",
    "for i in tqdm(range(last)):\n",
    "    ret, frame = cap.read()\n",
    "    if ret:\n",
    "        frames[i] = np.mean(frame[top:bottom,left:right,:],axis=2)\n",
    "cap.release()"
   ]
  },
  {
   "cell_type": "code",
   "execution_count": 33,
   "id": "fb0bf423-908f-438a-b681-c49f80819e83",
   "metadata": {},
   "outputs": [],
   "source": [
    "mean = np.mean(frames,axis=(1,2)); std = np.std(frames,axis=(1,2))"
   ]
  },
  {
   "cell_type": "code",
   "execution_count": 50,
   "id": "d6c7ff8d-b7a4-4e0a-ae13-2a5b2fa33de3",
   "metadata": {},
   "outputs": [
    {
     "name": "stderr",
     "output_type": "stream",
     "text": [
      "100%|██████████████████████████████████████████████████████████████████████████████████████████████████████████████████████████████████████████████████████████████████████████| 2494/2494 [00:30<00:00, 81.40it/s]\n"
     ]
    }
   ],
   "source": [
    "quantiles = [0, 10,20,30,40,50,60,70,80,90,100]\n",
    "result = []\n",
    "\n",
    "for frame in tqdm(frames):\n",
    "    frame_quantiles = [np.percentile(frame, q) for q in quantiles]\n",
    "    result.append(frame_quantiles)\n",
    "\n",
    "result = np.array(result)"
   ]
  },
  {
   "cell_type": "code",
   "execution_count": 20,
   "id": "caecdce6-5368-4225-9c8d-4c54c1f57846",
   "metadata": {},
   "outputs": [],
   "source": [
    "seconds = np.arange(len(mean))/fps"
   ]
  },
  {
   "cell_type": "code",
   "execution_count": 51,
   "id": "4a80b87c-cc50-49e7-9949-8a2176e6d52e",
   "metadata": {},
   "outputs": [
    {
     "name": "stderr",
     "output_type": "stream",
     "text": [
      "No artists with labels found to put in legend.  Note that artists whose label start with an underscore are ignored when legend() is called with no argument.\n"
     ]
    },
    {
     "ename": "IndexError",
     "evalue": "list index out of range",
     "output_type": "error",
     "traceback": [
      "\u001b[0;31m---------------------------------------------------------------------------\u001b[0m",
      "\u001b[0;31mIndexError\u001b[0m                                Traceback (most recent call last)",
      "Cell \u001b[0;32mIn[51], line 13\u001b[0m\n\u001b[1;32m     11\u001b[0m cols \u001b[38;5;241m=\u001b[39m [\u001b[38;5;124m'\u001b[39m\u001b[38;5;124mtab:red\u001b[39m\u001b[38;5;124m'\u001b[39m,\u001b[38;5;124m'\u001b[39m\u001b[38;5;124mtab:blue\u001b[39m\u001b[38;5;124m'\u001b[39m,\u001b[38;5;124m'\u001b[39m\u001b[38;5;124mtab:green\u001b[39m\u001b[38;5;124m'\u001b[39m,\u001b[38;5;124m'\u001b[39m\u001b[38;5;124mk\u001b[39m\u001b[38;5;124m'\u001b[39m]\n\u001b[1;32m     12\u001b[0m \u001b[38;5;28;01mfor\u001b[39;00m i \u001b[38;5;129;01min\u001b[39;00m \u001b[38;5;28mrange\u001b[39m(\u001b[38;5;28mlen\u001b[39m(quantiles)\u001b[38;5;241m-\u001b[39m\u001b[38;5;241m1\u001b[39m):\n\u001b[0;32m---> 13\u001b[0m     ax\u001b[38;5;241m.\u001b[39mfill_between(seconds,result[:,i],result[:,i\u001b[38;5;241m+\u001b[39m\u001b[38;5;241m1\u001b[39m],alpha\u001b[38;5;241m=\u001b[39m\u001b[38;5;241m0.1\u001b[39m,color \u001b[38;5;241m=\u001b[39m \u001b[43mcols\u001b[49m\u001b[43m[\u001b[49m\u001b[43mi\u001b[49m\u001b[43m]\u001b[49m,label \u001b[38;5;241m=\u001b[39m\u001b[38;5;28mstr\u001b[39m(quantiles[i\u001b[38;5;241m+\u001b[39m\u001b[38;5;241m1\u001b[39m])\u001b[38;5;241m+\u001b[39m\u001b[38;5;124m'\u001b[39m\u001b[38;5;124mth quantile\u001b[39m\u001b[38;5;124m'\u001b[39m)\n\u001b[1;32m     14\u001b[0m     ax\u001b[38;5;241m.\u001b[39mplot(seconds,result[:,i\u001b[38;5;241m+\u001b[39m\u001b[38;5;241m1\u001b[39m],c \u001b[38;5;241m=\u001b[39m cols[i])\n\u001b[1;32m     15\u001b[0m ax\u001b[38;5;241m.\u001b[39mplot(seconds,result[:,\u001b[38;5;241m0\u001b[39m],c\u001b[38;5;241m=\u001b[39mcols[\u001b[38;5;241m0\u001b[39m])\n",
      "\u001b[0;31mIndexError\u001b[0m: list index out of range"
     ]
    },
    {
     "data": {
      "image/png": "[encoded data removed]",
      "text/plain": [
       "<Figure size 800x300 with 1 Axes>"
      ]
     },
     "metadata": {},
     "output_type": "display_data"
    }
   ],
   "source": [
    "try:\n",
    "    os.mkdir('results')\n",
    "except:\n",
    "    pass\n",
    "\n",
    "fig,ax = plt.subplots(1,1,figsize=(8,3),sharex=True)\n",
    "\n",
    "ax.legend(frameon=False)\n",
    "ax.set_xlim(0,seconds[-1])\n",
    "ax.set_xlabel('Seconds (s)')\n",
    "cols = ['tab:red','tab:blue','tab:green','k']\n",
    "for i in range(len(quantiles)-1):\n",
    "    ax.fill_between(seconds,result[:,i],result[:,i+1],alpha=0.1,color = cols[i],label =str(quantiles[i+1])+'th quantile')\n",
    "    ax.plot(seconds,result[:,i+1],c = cols[i])\n",
    "ax.plot(seconds,result[:,0],c=cols[0])\n",
    "\n",
    "ax.set_ylabel('Pixel Intensity')\n",
    "\n",
    "ax.legend(frameon=False)\n",
    "fig.tight_layout()\n",
    "\n",
    "plt.savefig('results/plot.png',dpi=600)\n",
    "plt.show()"
   ]
  },
  {
   "cell_type": "code",
   "execution_count": 22,
   "id": "23515ed1-cba1-4d01-a1a5-b390536e49b9",
   "metadata": {},
   "outputs": [],
   "source": [
    "df_res = pd.DataFrame({'Time (s)':seconds,'Frame Intensity (Mean)':mean,'Frame Intensity (Standard Deviation)':std})\n",
    "df_res.to_csv('results/data.csv',index=False)"
   ]
  },
  {
   "cell_type": "code",
   "execution_count": null,
   "id": "e04c661a-9e24-4dbf-8754-584bd06347d5",
   "metadata": {},
   "outputs": [],
   "source": []
  }
 ],
 "metadata": {
  "kernelspec": {
   "display_name": "Python 3 (ipykernel)",
   "language": "python",
   "name": "python3"
  },
  "language_info": {
   "codemirror_mode": {
    "name": "ipython",
    "version": 3
   },
   "file_extension": ".py",
   "mimetype": "text/x-python",
   "name": "python",
   "nbconvert_exporter": "python",
   "pygments_lexer": "ipython3",
   "version": "3.11.4"
  }
 },
 "nbformat": 4,
 "nbformat_minor": 5
}
