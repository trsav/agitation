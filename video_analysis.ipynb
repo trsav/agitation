{
 "cells": [
  {
   "cell_type": "markdown",
   "id": "c7527b6b-10ee-421a-b8de-fead9d41c4f4",
   "metadata": {},
   "source": [
    "## Agitation Video Analysis \n",
    "\n",
    "This notebook may be used as a tool to determine the approximate mixing times of agitated glass vessels."
   ]
  },
  {
   "cell_type": "code",
   "execution_count": null,
   "id": "89223df2-4c41-4f8d-9ce0-244345e546ae",
   "metadata": {},
   "outputs": [],
   "source": [
    "import imageio as iio; import cv2; import numpy as np; import matplotlib.pyplot as plt; from tqdm import tqdm; import os; import tkinter as tk;\n",
    "from tkinter import filedialog\n",
    "import ipywidgets as widgets\n",
    "from ipywidgets import HBox, VBox\n",
    "from ipywidgets import interactive\n",
    "import pandas as pd"
   ]
  },
  {
   "cell_type": "code",
   "execution_count": null,
   "id": "faac8fca",
   "metadata": {
    "jupyter": {
     "source_hidden": true
    }
   },
   "outputs": [],
   "source": [
    "def select_file():\n",
    "    root = tk.Tk()\n",
    "    root.withdraw()  # Hide the root window\n",
    "    file_path = filedialog.askopenfilename(filetypes=[(\"MP4 files\", \"*.mp4\")])\n",
    "    return file_path\n",
    "\n",
    "video_name = select_file()\n",
    "print(f\"Selected video file: {video_name}\")"
   ]
  },
  {
   "cell_type": "code",
   "execution_count": null,
   "id": "94b39b3a-1435-46da-808d-e6ee7f5a4ce9",
   "metadata": {},
   "outputs": [],
   "source": [
    "cap = cv2.VideoCapture(video_name)\n",
    "success,image = cap.read()\n",
    "num_frames = int(cap.get(cv2.CAP_PROP_FRAME_COUNT))\n",
    "frame_height = int(cap.get(cv2.CAP_PROP_FRAME_HEIGHT))\n",
    "frame_width = int(cap.get(cv2.CAP_PROP_FRAME_WIDTH))\n",
    "fps = int(cap.get(cv2.CAP_PROP_FPS))"
   ]
  },
  {
   "cell_type": "markdown",
   "id": "9a4f804e-c63c-407f-b7a1-4eb353bc189b",
   "metadata": {},
   "source": [
    "## Change the values here to crop the image appropriately"
   ]
  },
  {
   "cell_type": "code",
   "execution_count": null,
   "id": "d69c1aab-00e2-432c-a217-918b49e779fb",
   "metadata": {
    "jupyter": {
     "source_hidden": true
    }
   },
   "outputs": [],
   "source": [
    "x = len(image[0,:])\n",
    "y = len(image[:,0])\n",
    "\n",
    "horizontal_slider = widgets.FloatRangeSlider(\n",
    "    value=[0,x], \n",
    "    min=0., max=x, step=1.,\n",
    "    description='Horizontal:',\n",
    "    readout_format='.1f',\n",
    ")\n",
    "\n",
    "vertical_slider = widgets.FloatRangeSlider(\n",
    "    value=[0,y], \n",
    "    min=0., max=y, step=1.,\n",
    "    description='Vertical:',\n",
    "    readout_format='.1f',\n",
    ")\n",
    "\n",
    "def crop(x,y):\n",
    "    left,right = x \n",
    "    top,bottom = y\n",
    "    left = int(left)\n",
    "    top = int(top)\n",
    "    bottom = int(bottom)\n",
    "    right = int(right)\n",
    "    print(left,right,top,bottom)\n",
    "    img = image[top:bottom,left:right]\n",
    "    plt.imshow(img)\n",
    "    plt.xticks([],[])\n",
    "    plt.yticks([],[])\n",
    "    plt.show()\n",
    "\n",
    "interactive_plot = interactive(\n",
    "    crop, \n",
    "    x=horizontal_slider,\n",
    "    y=vertical_slider\n",
    ")\n",
    "output = interactive_plot.children[-1]\n",
    "interactive_plot"
   ]
  },
  {
   "cell_type": "code",
   "execution_count": null,
   "id": "16c34154-144b-48f2-91a8-667644e5d7b1",
   "metadata": {},
   "outputs": [],
   "source": [
    "left,right = horizontal_slider.value\n",
    "top,bottom = vertical_slider.value\n",
    "left,right,top,bottom = int(left),int(right),int(top),int(bottom)"
   ]
  },
  {
   "cell_type": "code",
   "execution_count": null,
   "id": "b292dd2a-d498-488e-8163-9cc3df867d20",
   "metadata": {},
   "outputs": [],
   "source": [
    "frame_slider = widgets.FloatSlider(\n",
    "    value=0,\n",
    "    min=0,\n",
    "    max=num_frames,\n",
    "    step=1,\n",
    "    description='Last Frame:',\n",
    "    readout_format='.1f',\n",
    ")\n",
    "\n",
    "\n",
    "def last_frame(last):\n",
    "    cap.set(cv2.CAP_PROP_POS_FRAMES, last)\n",
    "    res, frame = cap.read()\n",
    "    plt.imshow(frame[top:bottom,left:right])\n",
    "    plt.xticks([],[])\n",
    "    plt.yticks([],[])\n",
    "    plt.show()\n",
    "\n",
    "interactive_plot = interactive(\n",
    "    last_frame, \n",
    "    last=frame_slider\n",
    ")\n",
    "\n",
    "output = interactive_plot.children[-1]\n",
    "interactive_plot"
   ]
  },
  {
   "cell_type": "code",
   "execution_count": null,
   "id": "72e17e9b-0cee-41a0-9f90-c2677565f261",
   "metadata": {},
   "outputs": [],
   "source": [
    "last = int(frame_slider.value)\n",
    "print(last)"
   ]
  },
  {
   "cell_type": "code",
   "execution_count": null,
   "id": "69c336db-2684-4966-923f-6ccf1aa1b57b",
   "metadata": {},
   "outputs": [],
   "source": [
    "frames = np.empty((last, bottom-top, right-left), dtype=np.uint8)\n",
    "cap.set(cv2.CAP_PROP_POS_FRAMES, 0)\n",
    "for i in tqdm(range(last)):\n",
    "    ret, frame = cap.read()\n",
    "    if ret:\n",
    "        frames[i] = np.mean(frame[top:bottom,left:right,:],axis=2)\n",
    "cap.release()"
   ]
  },
  {
   "cell_type": "code",
   "execution_count": null,
   "id": "fb0bf423-908f-438a-b681-c49f80819e83",
   "metadata": {},
   "outputs": [],
   "source": [
    "mean = np.mean(frames,axis=(1,2)); std = np.std(frames,axis=(1,2))"
   ]
  },
  {
   "cell_type": "code",
   "execution_count": null,
   "id": "d6c7ff8d-b7a4-4e0a-ae13-2a5b2fa33de3",
   "metadata": {},
   "outputs": [],
   "source": [
    "quantiles = [0, 10,20,30,40,50,60,70,80,90,100]\n",
    "result = []\n",
    "\n",
    "for frame in tqdm(frames):\n",
    "    frame_quantiles = [np.percentile(frame, q) for q in quantiles]\n",
    "    result.append(frame_quantiles)\n",
    "\n",
    "result = np.array(result)"
   ]
  },
  {
   "cell_type": "code",
   "execution_count": null,
   "id": "caecdce6-5368-4225-9c8d-4c54c1f57846",
   "metadata": {},
   "outputs": [],
   "source": [
    "seconds = np.arange(len(mean))/fps"
   ]
  },
  {
   "cell_type": "code",
   "execution_count": null,
   "id": "4a80b87c-cc50-49e7-9949-8a2176e6d52e",
   "metadata": {},
   "outputs": [],
   "source": [
    "try:\n",
    "    os.mkdir('results')\n",
    "except:\n",
    "    pass\n",
    "\n",
    "fig,ax = plt.subplots(1,1,figsize=(8,3),sharex=True)\n",
    "\n",
    "ax.legend(frameon=False)\n",
    "ax.set_xlim(0,seconds[-1])\n",
    "ax.set_xlabel('Seconds (s)')\n",
    "\n",
    "cols = ['#9e0142', '#d53e4f', '#f46d43', '#fdae61', '#fee08b', '#ffffbf', '#e6f598', '#abdda4', '#66c2a5', '#3288bd']\n",
    "for i in range(len(quantiles)-1):\n",
    "    ax.fill_between(seconds,result[:,i],result[:,i+1],color = cols[i],lw=0)\n",
    "\n",
    "ax.set_ylabel('Pixel Intensity Quantiles')\n",
    "\n",
    "ax.legend(frameon=False)\n",
    "ax.set_ylim(0,256)\n",
    "fig.tight_layout()\n",
    "plt.savefig('results/plot.png',dpi=600)\n",
    "\n",
    "plt.show()"
   ]
  },
  {
   "cell_type": "code",
   "execution_count": null,
   "id": "23515ed1-cba1-4d01-a1a5-b390536e49b9",
   "metadata": {},
   "outputs": [],
   "source": [
    "res_df = {'Time (s)':seconds,'Frame Intensity (Mean)':mean,'Frame Intensity (Standard Deviation)':std}\n",
    "for i in range(len(quantiles)):\n",
    "    res_df[str(quantiles[i])+'% Quantile'] = result[:,i]\n",
    "\n",
    "df_res = pd.DataFrame(res_df)\n",
    "df_res.to_csv('results/data.csv',index=False)"
   ]
  },
  {
   "cell_type": "code",
   "execution_count": null,
   "id": "e04c661a-9e24-4dbf-8754-584bd06347d5",
   "metadata": {},
   "outputs": [],
   "source": []
  }
 ],
 "metadata": {
  "kernelspec": {
   "display_name": "Python 3 (ipykernel)",
   "language": "python",
   "name": "python3"
  },
  "language_info": {
   "codemirror_mode": {
    "name": "ipython",
    "version": 3
   },
   "file_extension": ".py",
   "mimetype": "text/x-python",
   "name": "python",
   "nbconvert_exporter": "python",
   "pygments_lexer": "ipython3",
   "version": "3.11.4"
  }
 },
 "nbformat": 4,
 "nbformat_minor": 5
}
